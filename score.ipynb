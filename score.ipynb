{
 "cells": [
  {
   "cell_type": "code",
   "execution_count": 1,
   "metadata": {},
   "outputs": [],
   "source": [
    "import os\n",
    "import pandas as pd\n",
    "import scipy.stats as stats"
   ]
  },
  {
   "cell_type": "code",
   "execution_count": 2,
   "metadata": {},
   "outputs": [],
   "source": [
    "# Store all documents that are available in qrel files for each topic in a dictionary\n",
    "\n",
    "\n",
    "def get_qrel_dict(qrel_path):\n",
    "    with open(qrel_path) as q:\n",
    "        qrel_line = q.readlines()\n",
    "\n",
    "    qrel_dict = {}\n",
    "    for line in qrel_line:\n",
    "        line = line.split(' ')\n",
    "        topic = line[0]\n",
    "        if line[3].strip() == '1':\n",
    "            if not topic in qrel_dict:\n",
    "                qrel_dict[topic] = [line[2].strip()]\n",
    "            else:\n",
    "                qrel_dict[topic].append(line[2].strip())\n",
    "    return qrel_dict"
   ]
  },
  {
   "cell_type": "code",
   "execution_count": 3,
   "metadata": {},
   "outputs": [],
   "source": [
    "# Calculate the precision@k score for each-system-each-topic\n",
    "\n",
    "def precision_at_k(df, topic, dict, k):\n",
    "    count = 0\n",
    "    df = df[:k]\n",
    "    for doc in df['doc']:\n",
    "        if doc in dict[topic]:\n",
    "            count += 1\n",
    "    return count/k"
   ]
  },
  {
   "cell_type": "code",
   "execution_count": 4,
   "metadata": {},
   "outputs": [],
   "source": [
    "# Calculate the average precision for each topic in each system\n",
    "\n",
    "def get_avg_precision(topic_df, topic, dict):\n",
    "    precisions = []\n",
    "    avg_precision = 0.0\n",
    "    count = 0\n",
    "    for i, doc in enumerate(topic_df['doc']):\n",
    "        if doc in dict[topic]:\n",
    "            count += 1\n",
    "            precision = count / (i+1)\n",
    "            precisions.append(precision)\n",
    "\n",
    "    if precisions:\n",
    "        avg_precision = sum(precisions)/len(precisions)\n",
    "    return avg_precision"
   ]
  },
  {
   "cell_type": "code",
   "execution_count": 5,
   "metadata": {},
   "outputs": [],
   "source": [
    "# Check whether every topic in a file have at least 100 documents\n",
    "\n",
    "def check_100(df, topic_list):\n",
    "    for topic in topic_list:\n",
    "        df_topic = df[df['topic'] == topic]\n",
    "        if len(df_topic) < 100:\n",
    "            return False\n",
    "    return True"
   ]
  },
  {
   "cell_type": "code",
   "execution_count": 6,
   "metadata": {},
   "outputs": [],
   "source": [
    "# Calculate the average overall percision@10 score and MAP score\n",
    "\n",
    "def get_scores(files, dict):\n",
    "\n",
    "    df_precision_10 = pd.DataFrame()\n",
    "    df_map = pd.DataFrame()\n",
    "\n",
    "    for file in files:\n",
    "        # print(file)\n",
    "        with open(f'input/{file}') as f:\n",
    "            lines = f.readlines()\n",
    "\n",
    "        df = pd.DataFrame({\"topic\": [],\n",
    "                            \"doc\": [],\n",
    "                            \"ranking\": [],\n",
    "                            \"score\": [],\n",
    "                            })\n",
    "        topic = list()\n",
    "        doc = list()\n",
    "        ranking = list()\n",
    "        score = list()\n",
    "\n",
    "        for line in lines:\n",
    "            topic.append(int(line.strip().split(\"\\t\")[0]))\n",
    "            doc.append(line.strip().split(\"\\t\")[2])\n",
    "            ranking.append(int(line.strip().split(\"\\t\")[3]))\n",
    "            score .append(float(line.strip().split(\"\\t\")[4]))\n",
    "\n",
    "        df['topic'] = topic\n",
    "        df['doc'] = doc\n",
    "        df['ranking'] = ranking\n",
    "        df['score'] = score\n",
    "\n",
    "        topic_list = sorted(set(topic))\n",
    "\n",
    "        # Check if every file have topic form 401 to 450 and every topic have 100 documents\n",
    "        if (all(int(num) in topic_list for num in range(401, 451))) and check_100(df, topic_list):\n",
    "            for topic in topic_list:\n",
    "                df_topic = df[df['topic'] == topic]\n",
    "                df_topic = df_topic.sort_values(\"score\", ascending=False)\n",
    "                # df_top10 = df_topic[:10]  # Select Top 10 for precision@10\n",
    "                df_100 = df_topic[:100]  # Avg Precision for depth = 100\n",
    "                precision_10 = precision_at_k(df_topic, str(topic), dict, 10)\n",
    "                avg_precision = get_avg_precision(df_100, str(topic), dict)\n",
    "                df_precision_10.loc[topic, file] = precision_10\n",
    "                df_map.loc[topic, file] = avg_precision\n",
    "                # Mean percision@10 score in the average column\n",
    "            df_precision_10.loc['Mean', file] = df_precision_10[file].mean()\n",
    "            df_map.loc['Mean', file] = df_map[file].mean()\n",
    "        else:\n",
    "            print(file, 'do not have enough data')\n",
    "\n",
    "    return df_precision_10, df_map"
   ]
  },
  {
   "cell_type": "code",
   "execution_count": 7,
   "metadata": {},
   "outputs": [],
   "source": [
    "def sig_test (df, files):\n",
    "    sig_df = pd.DataFrame(columns=files, index=files)\n",
    "    for row in sig_df:\n",
    "        for file in files:\n",
    "            if sig_df[row][file] != 'nan':\n",
    "                t_stats, p_value = stats.ttest_ind(a=df[row], b=df[file] ,equal_var=True)\n",
    "                sig_df[row][file] = p_value\n",
    "    return sig_df"
   ]
  },
  {
   "cell_type": "code",
   "execution_count": 8,
   "metadata": {},
   "outputs": [],
   "source": [
    "# Input files path\n",
    "input_files = os.listdir(os.path.join(os.getcwd(), 'input'))"
   ]
  },
  {
   "cell_type": "code",
   "execution_count": 9,
   "metadata": {},
   "outputs": [],
   "source": [
    "# Qrel path\n",
    "qrel = os.path.join(os.getcwd(), \"qrels.trec8.adhoc\")\n",
    "qrel_dict = get_qrel_dict(qrel)"
   ]
  },
  {
   "cell_type": "code",
   "execution_count": 10,
   "metadata": {},
   "outputs": [],
   "source": [
    "# Dataframe to store all percision@10 scores (index=topic, column=system)\n",
    "precision10_df, map_df = get_scores(input_files, qrel_dict)\n",
    "precision_sig = sig_test(precision10_df,input_files)\n",
    "maps_sig = sig_test(map_df, input_files)"
   ]
  },
  {
   "cell_type": "code",
   "execution_count": 11,
   "metadata": {},
   "outputs": [
    {
     "name": "stdout",
     "output_type": "stream",
     "text": [
      "----------Mean percision@10 scores----------\n",
      "input.acsys8alo2    0.474\n",
      "input.apl8ctd       0.450\n",
      "input.att99atdc     0.540\n",
      "input.att99ate      0.476\n",
      "input.CL99XTopt     0.692\n",
      "input.Flab8as       0.486\n",
      "input.fub99td       0.510\n",
      "input.GE8ATDN1      0.502\n",
      "input.GE8MTD2       0.602\n",
      "input.ibms99c       0.470\n",
      "input.INQ602        0.472\n",
      "input.mds08a2       0.416\n",
      "input.Mer8Adtd4     0.486\n",
      "input.nttd8alx      0.476\n",
      "input.orcl99man     0.722\n",
      "Name: Mean, dtype: float64\n"
     ]
    }
   ],
   "source": [
    "print('----------Mean percision@10 scores----------')\n",
    "print(precision10_df.loc['Mean'])"
   ]
  },
  {
   "cell_type": "code",
   "execution_count": 12,
   "metadata": {},
   "outputs": [
    {
     "name": "stdout",
     "output_type": "stream",
     "text": [
      "----------MAP scores----------\n",
      "input.acsys8alo2    0.455366\n",
      "input.apl8ctd       0.425485\n",
      "input.att99atdc     0.487752\n",
      "input.att99ate      0.439029\n",
      "input.CL99XTopt     0.602349\n",
      "input.Flab8as       0.454345\n",
      "input.fub99td       0.492832\n",
      "input.GE8ATDN1      0.492043\n",
      "input.GE8MTD2       0.562690\n",
      "input.ibms99c       0.460350\n",
      "input.INQ602        0.445300\n",
      "input.mds08a2       0.394284\n",
      "input.Mer8Adtd4     0.471727\n",
      "input.nttd8alx      0.462806\n",
      "input.orcl99man     0.648299\n",
      "Name: Mean, dtype: float64\n"
     ]
    }
   ],
   "source": [
    "print('----------MAP scores----------')\n",
    "print(map_df.loc['Mean'])"
   ]
  },
  {
   "cell_type": "code",
   "execution_count": 13,
   "metadata": {},
   "outputs": [
    {
     "name": "stdout",
     "output_type": "stream",
     "text": [
      "----------Significant Testing (Precision@10)----------\n",
      "                 input.acsys8alo2 input.apl8ctd input.att99atdc   \n",
      "input.acsys8alo2              1.0      0.702648        0.298648  \\\n",
      "input.apl8ctd            0.702648           1.0        0.176844   \n",
      "input.att99atdc          0.298648      0.176844             1.0   \n",
      "input.att99ate           0.974992      0.697148        0.342276   \n",
      "input.CL99XTopt          0.000172      0.000088         0.01246   \n",
      "input.Flab8as            0.847643       0.58286        0.413779   \n",
      "input.fub99td            0.555426       0.35042        0.642489   \n",
      "input.GE8ATDN1           0.627662      0.394659        0.536895   \n",
      "input.GE8MTD2            0.034818      0.017623        0.330942   \n",
      "input.ibms99c            0.946338      0.749503         0.26881   \n",
      "input.INQ602             0.972527      0.719925        0.272894   \n",
      "input.mds08a2            0.333498       0.58972        0.053016   \n",
      "input.Mer8Adtd4          0.839775      0.565212        0.392464   \n",
      "input.nttd8alx           0.972765      0.674192        0.305641   \n",
      "input.orcl99man          0.000019      0.000011        0.002704   \n",
      "\n",
      "                 input.att99ate input.CL99XTopt input.Flab8as input.fub99td   \n",
      "input.acsys8alo2       0.974992        0.000172      0.847643      0.555426  \\\n",
      "input.apl8ctd          0.697148        0.000088       0.58286       0.35042   \n",
      "input.att99atdc        0.342276         0.01246      0.413779      0.642489   \n",
      "input.att99ate              1.0         0.00052      0.880321      0.601444   \n",
      "input.CL99XTopt         0.00052             1.0      0.000689      0.001972   \n",
      "input.Flab8as          0.880321        0.000689           1.0      0.706579   \n",
      "input.fub99td          0.601444        0.001972      0.706579           1.0   \n",
      "input.GE8ATDN1         0.674899        0.000619       0.79171      0.892284   \n",
      "input.GE8MTD2          0.051488        0.112274      0.066788      0.135596   \n",
      "input.ibms99c          0.924815        0.000125       0.79712      0.510852   \n",
      "input.INQ602           0.948818        0.000097      0.818306      0.523083   \n",
      "input.mds08a2           0.34923        0.000003      0.265074      0.126551   \n",
      "input.Mer8Adtd4        0.874877        0.000339           1.0      0.692619   \n",
      "input.nttd8alx              1.0        0.000146      0.870672      0.570871   \n",
      "input.orcl99man        0.000077        0.559763        0.0001      0.000306   \n",
      "\n",
      "                 input.GE8ATDN1 input.GE8MTD2 input.ibms99c input.INQ602   \n",
      "input.acsys8alo2       0.627662      0.034818      0.946338     0.972527  \\\n",
      "input.apl8ctd          0.394659      0.017623      0.749503     0.719925   \n",
      "input.att99atdc        0.536895      0.330942       0.26881     0.272894   \n",
      "input.att99ate         0.674899      0.051488      0.924815     0.948818   \n",
      "input.CL99XTopt        0.000619      0.112274      0.000125     0.000097   \n",
      "input.Flab8as           0.79171      0.066788       0.79712     0.818306   \n",
      "input.fub99td          0.892284      0.135596      0.510852     0.523083   \n",
      "input.GE8ATDN1              1.0       0.08707       0.57783      0.59274   \n",
      "input.GE8MTD2           0.08707           1.0      0.029018     0.027848   \n",
      "input.ibms99c           0.57783      0.029018           1.0     0.972412   \n",
      "input.INQ602            0.59274      0.027848      0.972412          1.0   \n",
      "input.mds08a2          0.139417       0.00251      0.365883     0.337449   \n",
      "input.Mer8Adtd4        0.780357      0.054058      0.786674     0.808468   \n",
      "input.nttd8alx         0.645999      0.034396       0.91809     0.944015   \n",
      "input.orcl99man        0.000072       0.03322      0.000013     0.000009   \n",
      "\n",
      "                 input.mds08a2 input.Mer8Adtd4 input.nttd8alx input.orcl99man  \n",
      "input.acsys8alo2      0.333498        0.839775       0.972765        0.000019  \n",
      "input.apl8ctd          0.58972        0.565212       0.674192        0.000011  \n",
      "input.att99atdc       0.053016        0.392464       0.305641        0.002704  \n",
      "input.att99ate         0.34923        0.874877            1.0        0.000077  \n",
      "input.CL99XTopt       0.000003        0.000339       0.000146        0.559763  \n",
      "input.Flab8as         0.265074             1.0       0.870672          0.0001  \n",
      "input.fub99td         0.126551        0.692619       0.570871        0.000306  \n",
      "input.GE8ATDN1        0.139417        0.780357       0.645999        0.000072  \n",
      "input.GE8MTD2          0.00251        0.054058       0.034396         0.03322  \n",
      "input.ibms99c         0.365883        0.786674        0.91809        0.000013  \n",
      "input.INQ602          0.337449        0.808468       0.944015        0.000009  \n",
      "input.mds08a2              1.0        0.241156       0.308407             0.0  \n",
      "input.Mer8Adtd4       0.241156             1.0       0.863722         0.00004  \n",
      "input.nttd8alx        0.308407        0.863722            1.0        0.000015  \n",
      "input.orcl99man            0.0         0.00004       0.000015             1.0  \n"
     ]
    }
   ],
   "source": [
    "print('----------Significant Testing (Precision@10)----------')\n",
    "print(precision_sig)"
   ]
  },
  {
   "cell_type": "code",
   "execution_count": 14,
   "metadata": {},
   "outputs": [
    {
     "name": "stdout",
     "output_type": "stream",
     "text": [
      "----------Significant Testing (MAPS@100)----------\n",
      "                 input.acsys8alo2 input.apl8ctd input.att99atdc   \n",
      "input.acsys8alo2              1.0      0.538043         0.50944  \\\n",
      "input.apl8ctd            0.538043           1.0         0.22501   \n",
      "input.att99atdc           0.50944       0.22501             1.0   \n",
      "input.att99ate           0.747863      0.797698         0.36204   \n",
      "input.CL99XTopt          0.001182      0.000234        0.016321   \n",
      "input.Flab8as            0.983138       0.56732        0.512493   \n",
      "input.fub99td            0.456839      0.199928        0.923418   \n",
      "input.GE8ATDN1            0.41453      0.160156        0.928357   \n",
      "input.GE8MTD2            0.022976      0.005801        0.131015   \n",
      "input.ibms99c             0.91673      0.484529        0.586608   \n",
      "input.INQ602             0.828452      0.683915        0.389178   \n",
      "input.mds08a2            0.183275      0.515572        0.056187   \n",
      "input.Mer8Adtd4            0.7254      0.344066        0.745296   \n",
      "input.nttd8alx           0.868596      0.430248        0.602114   \n",
      "input.orcl99man          0.000035      0.000006        0.001002   \n",
      "\n",
      "                 input.att99ate input.CL99XTopt input.Flab8as input.fub99td   \n",
      "input.acsys8alo2       0.747863        0.001182      0.983138      0.456839  \\\n",
      "input.apl8ctd          0.797698        0.000234       0.56732      0.199928   \n",
      "input.att99atdc         0.36204        0.016321      0.512493      0.923418   \n",
      "input.att99ate              1.0         0.00114      0.771196      0.324634   \n",
      "input.CL99XTopt         0.00114             1.0      0.001794      0.025229   \n",
      "input.Flab8as          0.771196        0.001794           1.0      0.461132   \n",
      "input.fub99td          0.324634        0.025229      0.461132           1.0   \n",
      "input.GE8ATDN1         0.285976         0.01098       0.42284      0.987161   \n",
      "input.GE8MTD2          0.017057        0.373407      0.027642      0.169244   \n",
      "input.ibms99c          0.682403        0.002346      0.903711      0.529197   \n",
      "input.INQ602           0.902083        0.000584      0.851954      0.347171   \n",
      "input.mds08a2          0.374547        0.000006      0.210191      0.049829   \n",
      "input.Mer8Adtd4        0.522505        0.003999      0.720557      0.676481   \n",
      "input.nttd8alx         0.632061        0.001471      0.857292      0.541162   \n",
      "input.orcl99man        0.000047        0.279783      0.000067      0.001864   \n",
      "\n",
      "                 input.GE8ATDN1 input.GE8MTD2 input.ibms99c input.INQ602   \n",
      "input.acsys8alo2        0.41453      0.022976       0.91673     0.828452  \\\n",
      "input.apl8ctd          0.160156      0.005801      0.484529     0.683915   \n",
      "input.att99atdc        0.928357      0.131015      0.586608     0.389178   \n",
      "input.att99ate         0.285976      0.017057      0.682403     0.902083   \n",
      "input.CL99XTopt         0.01098      0.373407      0.002346     0.000584   \n",
      "input.Flab8as           0.42284      0.027642      0.903711     0.851954   \n",
      "input.fub99td          0.987161      0.169244      0.529197     0.347171   \n",
      "input.GE8ATDN1              1.0      0.120347      0.494275     0.300878   \n",
      "input.GE8MTD2          0.120347           1.0      0.034909     0.013447   \n",
      "input.ibms99c          0.494275      0.034909           1.0     0.753135   \n",
      "input.INQ602           0.300878      0.013447      0.753135          1.0   \n",
      "input.mds08a2          0.029175      0.000393       0.16286     0.267624   \n",
      "input.Mer8Adtd4        0.653119      0.054576      0.812477     0.572137   \n",
      "input.nttd8alx         0.502342      0.029349      0.957778     0.698348   \n",
      "input.orcl99man         0.00045      0.059052      0.000087     0.000016   \n",
      "\n",
      "                 input.mds08a2 input.Mer8Adtd4 input.nttd8alx input.orcl99man  \n",
      "input.acsys8alo2      0.183275          0.7254       0.868596        0.000035  \n",
      "input.apl8ctd         0.515572        0.344066       0.430248        0.000006  \n",
      "input.att99atdc       0.056187        0.745296       0.602114        0.001002  \n",
      "input.att99ate        0.374547        0.522505       0.632061        0.000047  \n",
      "input.CL99XTopt       0.000006        0.003999       0.001471        0.279783  \n",
      "input.Flab8as         0.210191        0.720557       0.857292        0.000067  \n",
      "input.fub99td         0.049829        0.676481       0.541162        0.001864  \n",
      "input.GE8ATDN1        0.029175        0.653119       0.502342         0.00045  \n",
      "input.GE8MTD2         0.000393        0.054576       0.029349        0.059052  \n",
      "input.ibms99c          0.16286        0.812477       0.957778        0.000087  \n",
      "input.INQ602          0.267624        0.572137       0.698348        0.000016  \n",
      "input.mds08a2              1.0        0.094556       0.124829             0.0  \n",
      "input.Mer8Adtd4       0.094556             1.0       0.843816        0.000151  \n",
      "input.nttd8alx        0.124829        0.843816            1.0         0.00004  \n",
      "input.orcl99man            0.0        0.000151        0.00004             1.0  \n"
     ]
    }
   ],
   "source": [
    "print('----------Significant Testing (MAPS@100)----------')\n",
    "print(maps_sig)"
   ]
  }
 ],
 "metadata": {
  "kernelspec": {
   "display_name": "Python 3",
   "language": "python",
   "name": "python3"
  },
  "language_info": {
   "codemirror_mode": {
    "name": "ipython",
    "version": 3
   },
   "file_extension": ".py",
   "mimetype": "text/x-python",
   "name": "python",
   "nbconvert_exporter": "python",
   "pygments_lexer": "ipython3",
   "version": "3.10.6"
  },
  "orig_nbformat": 4
 },
 "nbformat": 4,
 "nbformat_minor": 2
}
